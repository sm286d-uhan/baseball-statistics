{
 "cells": [
  {
   "cell_type": "markdown",
   "metadata": {},
   "source": [
    "<h4 class='prehead'>SM286D &middot; Introduction to Applied Mathematics with Python &middot; Spring 2020 &middot; Foraker/Traves/Uhan</h4>\n",
    "\n",
    "<h3 class='lesson'>Project 4.</h3>\n",
    "\n",
    "<h1 class='lesson_title'>Baseball Statistics</h1>"
   ]
  },
  {
   "cell_type": "markdown",
   "metadata": {},
   "source": [
    "__Mathematical goals.__  plotting, regression\n",
    "\n",
    "__Programming goals.__ for loops, working with nested dictionaries, data input and output using xlwings, printing with f-strings, using Matplotlib"
   ]
  },
  {
   "cell_type": "markdown",
   "metadata": {},
   "source": [
    "---"
   ]
  },
  {
   "cell_type": "markdown",
   "metadata": {},
   "source": [
    "## Background"
   ]
  },
  {
   "cell_type": "markdown",
   "metadata": {},
   "source": [
    "### How the Boston Red Sox Beat the Curse of the Bambino"
   ]
  },
  {
   "cell_type": "markdown",
   "metadata": {},
   "source": [
    "Baseball has always been the province of statistics. Trading cards record each player's batting average, home runs and stolen bases. Many fans can recite the statistics of their favorite players. And the advent of fantasy baseball leagues has only increased fans' desire for data. Baseball statistics gained new prominence in 2003 when Billy Beane, the manager of the Oakland Athletics, rejected scouting reports and instead identified talented prospects using new statistical techniques. He used a system called _sabermetrics_ to assemble a team of low-priced and undervalued players. That team didn't win the World Series but they did much better than teams with higher payrolls. Their triumph is recounted in Michael Lewis's book, Moneyball, and in the movie of the same name, for which Brad Pitt earned an Oscar nomination (see Figure 1). "
   ]
  },
  {
   "cell_type": "markdown",
   "metadata": {},
   "source": [
    "<table><tr>\n",
    "<td> <img src=\"img/Moneyball_book.jpg\" alt=\"Drawing\" style=\"width: 260px;\"/> </td>\n",
    "<td> <img src=\"img/Moneyball_movie.jpg\" alt=\"Drawing\" style=\"width: 270px;\"/> </td>\n",
    "</tr></table>"
   ]
  },
  {
   "cell_type": "markdown",
   "metadata": {},
   "source": [
    "<center> Figure 1. Moneyball: (left) the book, (right) the movie. </center>"
   ]
  },
  {
   "cell_type": "markdown",
   "metadata": {},
   "source": [
    "Based on this success, Billy Beane was invited to coach the Boston Red Sox, an offer that would have made him the highest paid manager in baseball, though Beane turned down the offer to stay with his team in Oakland. Boston was desperate to win the World Series. The team had won the 1918 World Championship but hadn't repeated as champions despite several golden opportunities. Fans blamed the Red Sox's failures on the Curse of the Bambino. Red Sox owner Harry Frazee is said to have incurred the curse when he traded away Babe Ruth &mdash; the superstar and troublemaker who played a crucial role in the 1918 championship &mdash; to the New York Yankees for cash. Analysts didn't give the 2004 team much chance either, but the new manager, Terry Francona,  used Beane's methods to put together a team that ended the 86-year drought.  "
   ]
  },
  {
   "cell_type": "markdown",
   "metadata": {},
   "source": [
    "Today every baseball team uses a combination of scouting reports and statistical analysis to find talented prospects and to make tactical decisions during games. Nate Silver's book, *The Signal and the Noise*, has a fascinating account of the current state of baseball scouting. Silver designed his own statistical system to predict performance of baseball players but he is better known for his statistical analysis of the 2008 U.S. presidential election, where he correctly predicted the winner in 49 U.S. states. "
   ]
  },
  {
   "cell_type": "markdown",
   "metadata": {},
   "source": [
    "### Navy Baseball Statistics"
   ]
  },
  {
   "cell_type": "markdown",
   "metadata": {},
   "source": [
    "In this assignment we'll compile some statistics used in sabermetrics for the 2016 Navy baseball team. That team featured MIDN 1/C Luke Gillingham, who was drafted by the Toronto Blue Jays, pictured in Figure 2. "
   ]
  },
  {
   "cell_type": "markdown",
   "metadata": {},
   "source": [
    "<table><tr>\n",
    "<td> <img src=\"img/Gillingham_for_Navy.jpg\" alt=\"Drawing\" style=\"width: 260px;\"/> </td>\n",
    "<td> <img src=\"img/Gillingham_as_a_Blue_Jay.jpg\" alt=\"Drawing\" style=\"width: 420px;\"/> </td>\n",
    "</tr></table>"
   ]
  },
  {
   "cell_type": "markdown",
   "metadata": {},
   "source": [
    "<center> Figure 2. Luke Gillingham: (left) playing for Navy, (right) playing for the Toronto Blue Jays. </center>"
   ]
  },
  {
   "cell_type": "markdown",
   "metadata": {},
   "source": [
    "You can find Navy baseball statistics on the `navysports.com` website. In the same folder as this notebook, there is an Excel workbook `NavyBaseballStatistics2016.xlsx` containing publicly available data about the Navy players and their performance. Assistant Coach Bobby Applegate kindly helped explain some of the data. "
   ]
  },
  {
   "cell_type": "markdown",
   "metadata": {},
   "source": [
    "It is worth noting that even copying and pasting data from the web to the spreadsheet can be tricky! In this case, when copying the numbers to the spreadsheet Excel refuses to recognize the copied material as numbers, insisting that it is text. It turns out that there is a hidden character next to each number on the webpage that needs to be deleted before Excel can see the numbers as numeric data. Another problem in the data came from the way that innings pitched was recorded. Baseball statisticians use a number like 12.2 to indicate that 12 full innings were pitched and then 2 more batters were struck out (3 batters need to be struck out to complete an inning). However, this represents 12 and 2/3 innings pitched, which ought to be recorded as 12.66. These kinds of problems are typical for data analysis projects. Data cleaning can often take way longer than the actual analysis!"
   ]
  },
  {
   "cell_type": "markdown",
   "metadata": {},
   "source": [
    "The statistics are broken into two charts. The top one contains data on Navy pitchers. For instance, MIDN 4/C Andrew Sauer is a right handed pitcher and wears jersey number 1. He's mainly a relief pitcher and has pitched 12.2 innings, giving up 1 earned run. Since baseball games are usually nine innings, you can compute his earned run average by dividing the number of earned runs (1) by the number of innings (12.66) and multiplying by 9. This produces his earned run average, 0.71, an important statistic for pitchers. "
   ]
  },
  {
   "cell_type": "markdown",
   "metadata": {},
   "source": [
    "The lower chart contains data on position players (i.e. all other players but pitchers). For instance, MIDN 1/C Robert Currie plays outfielder, wears jersey number 2, has 220 at bats, 76 hits, 30 bases on balls (walks), 6 times he was hit by a pitch, 4 times he hit sacrifice flys and 4 times he had a sacrifice hit (a bunt). Eleven of his hits were doubles, 6 were triples and none were home runs. He has a batting average of 0.345, which can be computed by dividing the number of hits (76) by the number of at bats (220).  "
   ]
  },
  {
   "cell_type": "markdown",
   "metadata": {},
   "source": [
    "In this assignment, you will compute a number of additional statistics that are used in sabermetrics. In fact, Navy coaches track all sorts of other statistics, such as batting averages against right and left-handed pitchers, with runners on base, or as the leadoff batter. These kinds of statistics can be used to make tactical decisions during a game.  "
   ]
  },
  {
   "cell_type": "markdown",
   "metadata": {},
   "source": [
    "---"
   ]
  },
  {
   "cell_type": "markdown",
   "metadata": {},
   "source": [
    "## Your Assignment"
   ]
  },
  {
   "cell_type": "markdown",
   "metadata": {},
   "source": [
    "### Part 1"
   ]
  },
  {
   "cell_type": "markdown",
   "metadata": {},
   "source": [
    "Let's load the data in `NavyBaseballStatistics2016.xlsx` into Python. First, we have to finish cleaning the data. Open the file in Excel. Note that some of the players don't have any statistics. We need to remove the rows containing data for Hill Garbo, Adam Johnson, Kyle Stewart, Shane Peisker, and Colby Sciarrilla. To do so, right click on the row number and then select Delete. Save the file as `NavyBaseballStatistics2016-deleted.xlsx`."
   ]
  },
  {
   "cell_type": "markdown",
   "metadata": {},
   "source": [
    "Now, let's load the data for the pitchers into Python using a package called xlwings. "
   ]
  },
  {
   "cell_type": "code",
   "execution_count": null,
   "metadata": {},
   "outputs": [],
   "source": [
    "import xlwings as xw\n",
    "\n",
    "# Load data workbook\n",
    "wb = xw.Book('NavyBaseballStatistics2016-deleted.xlsx')\n",
    "\n",
    "# Create a variable pointing to the sheet that contains the data\n",
    "s_data = wb.sheets['Sheet1']\n",
    "\n",
    "# Specify the total number of pitchers\n",
    "num_pitchers = 13\n",
    "\n",
    "# Create a dictionary to store the pitcher data\n",
    "pitcher_data = {}\n",
    "for i in range(1, num_pitchers + 1):\n",
    "    pitcher = s_data.range(f'B{i + 2}').value\n",
    "    ip = s_data.range(f'M{i + 2}').value\n",
    "    er = s_data.range(f'P{i + 2}').value\n",
    "    \n",
    "    # Each pitcher is mapped to a dictionary\n",
    "    # with that picther's IP and ER\n",
    "    pitcher_data[pitcher] = {'ip': ip, 'er': er}"
   ]
  },
  {
   "cell_type": "markdown",
   "metadata": {},
   "source": [
    "Note that the pitcher data was loaded into a dictionary called `pitcher_data`:"
   ]
  },
  {
   "cell_type": "code",
   "execution_count": null,
   "metadata": {
    "run_control": {
     "marked": false
    }
   },
   "outputs": [],
   "source": [
    "pitcher_data"
   ]
  },
  {
   "cell_type": "markdown",
   "metadata": {},
   "source": [
    "Each pitcher is mapped to a dictionary containing his statistics. For example, to get Andrew Sauer's statistics:"
   ]
  },
  {
   "cell_type": "code",
   "execution_count": null,
   "metadata": {},
   "outputs": [],
   "source": [
    "pitcher_data['Andrew Sauer']"
   ]
  },
  {
   "cell_type": "markdown",
   "metadata": {},
   "source": [
    "So, we can get the innings pitched for Andrew Sauer like this:"
   ]
  },
  {
   "cell_type": "code",
   "execution_count": null,
   "metadata": {},
   "outputs": [],
   "source": [
    "pitcher_data['Andrew Sauer']['ip']"
   ]
  },
  {
   "cell_type": "markdown",
   "metadata": {},
   "source": [
    "### Part 2"
   ]
  },
  {
   "cell_type": "markdown",
   "metadata": {},
   "source": [
    "Write code to compute the earned run average (ERA) for each pitcher. ERA is given by\n",
    "\n",
    "\\begin{equation*}\n",
    "\\text{ERA} = \\frac{9 \\times \\text{er}}{\\text{ip}},\n",
    "\\end{equation*}\n",
    "\n",
    "where er is the number of earned runs and ip is the number of innings pitched.  \n",
    "\n",
    "Use a `for` loop and the `.items()` dictionary method to consider pitchers one at a time.\n",
    "For each pitcher, add a key-value pair to his dictionary to store his ERA value.\n",
    "\n",
    "When you're done, `pitcher_data` should look like this:\n",
    "\n",
    "```\n",
    "{'Andrew Sauer': {'ip': 12.66, 'er': 1.0, 'ERA': 0.7109004739336493},\n",
    " 'Rece Goodman': {'ip': 10.33, 'er': 7.0, 'ERA': 6.098741529525653},\n",
    " 'J.P. Colton': {'ip': 7.0, 'er': 2.0, 'ERA': 2.5714285714285716},\n",
    " 'Jett Meenach': {'ip': 32.66, 'er': 13.0, 'ERA': 3.582363747703613},\n",
    " 'Jackson Zoch': {'ip': 22.33, 'er': 10.0, 'ERA': 4.030452306314376},\n",
    " 'Sam Sorenson': {'ip': 47.0, 'er': 9.0, 'ERA': 1.7234042553191489},\n",
    " 'Luke Gillingham': {'ip': 92.0, 'er': 24.0, 'ERA': 2.347826086956522},\n",
    " 'Noah Song': {'ip': 75.33, 'er': 23.0, 'ERA': 2.7479091995221028},\n",
    " 'Colin Brady': {'ip': 31.66, 'er': 18.0, 'ERA': 5.116866708780796},\n",
    " 'Colby Sciarrilla': {'ip': 0.66, 'er': 3.0, 'ERA': 40.90909090909091},\n",
    " 'George Coughlin': {'ip': 70.0, 'er': 24.0, 'ERA': 3.085714285714286},\n",
    " 'Andrew Bartek': {'ip': 40.0, 'er': 19.0, 'ERA': 4.275},\n",
    " 'Kyle Condry': {'ip': 64.66, 'er': 27.0, 'ERA': 3.7581193937519335}}\n",
    "```\n",
    "\n",
    "Check your work by (1) printing the dictionary and (2) printing Andrew Sauer's ERA. Andrew Sauer should have an earned run average of approximately 0.71."
   ]
  },
  {
   "cell_type": "code",
   "execution_count": null,
   "metadata": {},
   "outputs": [],
   "source": []
  },
  {
   "cell_type": "markdown",
   "metadata": {},
   "source": [
    "### Part 3"
   ]
  },
  {
   "cell_type": "markdown",
   "metadata": {},
   "source": [
    "Using a `for` loop and the `.items()` dictionary method, print a string to the screen that looks like the following statement for each pitcher. \n",
    "\n",
    "```\n",
    "Pitcher Andrew Sauer has an earned run average of 0.71.\n",
    "```"
   ]
  },
  {
   "cell_type": "code",
   "execution_count": null,
   "metadata": {},
   "outputs": [],
   "source": []
  },
  {
   "cell_type": "markdown",
   "metadata": {},
   "source": [
    "### Part 4"
   ]
  },
  {
   "cell_type": "markdown",
   "metadata": {},
   "source": [
    "Now let's turn to the position players. Use Part 1 as a template, and read in the position player data into a dictionary called `player_data`. You'll need to read in the following columns of data for each player:\n",
    "\n",
    "- ab (at bats)\n",
    "- h (hits)\n",
    "- 2b (doubles)\n",
    "- 3b (triples)\n",
    "- hr (homeruns)\n",
    "- bb (bases on balls, a.k.a. walks)\n",
    "- hbp (hit by pitch)\n",
    "- sf (sacrifice flys)\n",
    "\n",
    "Your dictionary should look something like this:\n",
    "\n",
    "```\n",
    "{'Robert Currie': {'ab': 220.0,\n",
    "  'h': 76.0,\n",
    "  '2b': 11.0,\n",
    "  '3b': 6.0,\n",
    "  'hr': 0.0,\n",
    "  'bb': 30.0,\n",
    "  'hbp': 6.0,\n",
    "  'sf': 4.0},\n",
    " 'Travis Blue': {'ab': 234.0,\n",
    "  'h': 61.0,\n",
    "  '2b': 12.0,\n",
    "  '3b': 6.0,\n",
    "  'hr': 1.0,\n",
    "  'bb': 29.0,\n",
    "  'hbp': 2.0,\n",
    "  'sf': 4.0},\n",
    "\n",
    "    ...\n",
    "\n",
    " 'Andrew Lowry': {'ab': 17.0,\n",
    "  'h': 5.0,\n",
    "  '2b': 0.0,\n",
    "  '3b': 0.0,\n",
    "  'hr': 0.0,\n",
    "  'bb': 5.0,\n",
    "  'hbp': 1.0,\n",
    "  'sf': 1.0}}\n",
    "```"
   ]
  },
  {
   "cell_type": "code",
   "execution_count": null,
   "metadata": {
    "scrolled": true
   },
   "outputs": [],
   "source": []
  },
  {
   "cell_type": "markdown",
   "metadata": {},
   "source": [
    "### Part 5"
   ]
  },
  {
   "cell_type": "markdown",
   "metadata": {},
   "source": [
    "The number of total bases for each player can be computed from the number of hits (h), doubles (2b), triples (3b) and home runs (hr). Doubles count for 2 total bases, triples for 3, home runs for 4 and base hits for 1. \n",
    "\n",
    "Careful: the statistic in the column headed h is the total number of hits (including doubles, triples and home runs), not the number of base hits. This means the number of singles is given by \n",
    "\n",
    "\\begin{equation*}\n",
    "\\text{singles} = \\text{h} - \\text{d} - \\text{t} - \\text{hr}.\n",
    "\\end{equation*}\n",
    "\n",
    "Using a `for` loop and the `.items()` dictionary method, compute the number of total bases for each player.\n",
    "As in Part 2, for each player, add a key-value pair to his dictionary containing his total bases.\n",
    "\n",
    "Using a `for` loop and the `.items()` dictionary method, print a string to the screen that looks like the following statement for each player. \n",
    "\n",
    "```\n",
    "Robert Currie had 99 total bases.\n",
    "```\n",
    "\n",
    "Check your work: Robert Currie should have 99 total bases."
   ]
  },
  {
   "cell_type": "code",
   "execution_count": null,
   "metadata": {},
   "outputs": [],
   "source": []
  },
  {
   "cell_type": "markdown",
   "metadata": {},
   "source": [
    "### Part 6"
   ]
  },
  {
   "cell_type": "markdown",
   "metadata": {},
   "source": [
    "The slugging percentage is the number of total bases divided by the number of at-bats (recorded in the column headed ab):\n",
    "\n",
    "\\begin{equation*}\n",
    "\\text{SLG} = \\frac{\\text{total bases}}{\\text{ab}}.\n",
    "\\end{equation*}\n",
    "\n",
    "Slugging percentage measures a combination of hitting frequency and hitting power.\n",
    "\n",
    "Using a `for` loop and the `.items()` dictionary method, compute the slugging percentage for each player. As in Part 5, for each player, add a key-value to his dictionary to store his slugging percentage.\n",
    "\n",
    "Using a `for` loop and the `.items()` dictionary method, print a string to the screen that looks like the following statement for each player. \n",
    "\n",
    "```\n",
    "Robert Currie had a slugging percentage of 0.450.\n",
    "```\n",
    "\n",
    "Check your work: Robert Currie should have a slugging percentage of 0.450."
   ]
  },
  {
   "cell_type": "code",
   "execution_count": null,
   "metadata": {},
   "outputs": [],
   "source": []
  },
  {
   "cell_type": "markdown",
   "metadata": {},
   "source": [
    "### Part 7"
   ]
  },
  {
   "cell_type": "markdown",
   "metadata": {},
   "source": [
    "The on-base percentage is computed using the formula \n",
    "\n",
    "\\begin{equation*}\n",
    "\\text{OBP} = \\frac{\\text{H} + \\text{BB} + \\text{HBP}}{\\text{AB} + \\text{BB} + \\text{HBP} + \\text{SF}},\n",
    "\\end{equation*}\n",
    "\n",
    "where $\\text{H}$ stands for hits, $\\text{BB}$ stands for bases on balls (walks), $\\text{HBP}$ stands for hit by pitch, $\\text{AB}$ stands for at-bats and $\\text{SF}$ stands for sacrifice flies. \n",
    "\n",
    "Using a `for` loop and the `.items()` dictionary method, compute the on-base percentage for each player. As in Part 6, for each player, add a key-value to his dictionary to store his slugging percentage.\n",
    "\n",
    "Using a `for` loop and the `.items()` dictionary method, print a string to the screen that looks like the following statement for each player. \n",
    "\n",
    "```\n",
    "Robert Currie had an on-base percentage of 0.431.\n",
    "```\n",
    "\n",
    "Check your work: Robert Currie should have an on-base percentage of 0.431."
   ]
  },
  {
   "cell_type": "code",
   "execution_count": null,
   "metadata": {},
   "outputs": [],
   "source": []
  },
  {
   "cell_type": "markdown",
   "metadata": {},
   "source": [
    "### Part 8"
   ]
  },
  {
   "cell_type": "markdown",
   "metadata": {},
   "source": [
    "Using a `for` loop and the `.items()` dictionary method, identify the player that has the highest slugging percentage and this highest value.\n",
    "Print a line of text to the screen with this information.\n",
    "\n",
    "Similarly, using a `for` loop and the `.items()` dictionary method, identify the pitcher with the lowest earned run average and this lowest value.\n",
    "Print a line of text to the screen with this information."
   ]
  },
  {
   "cell_type": "code",
   "execution_count": null,
   "metadata": {},
   "outputs": [],
   "source": []
  },
  {
   "cell_type": "markdown",
   "metadata": {},
   "source": [
    "### Part 9"
   ]
  },
  {
   "cell_type": "markdown",
   "metadata": {},
   "source": [
    "Plot the total bases against the number of hits, using a red circle for each player. Note that you'll need to create a list of x-axis and y-axis values from the `player_dict` dictionary. You can do this with a `for` loop and the `.items()` dictionary method. Label the x-axis _Hits_ and the y-axis _Total Bases_. Title your graph _Total Bases vs. Hits_. "
   ]
  },
  {
   "cell_type": "code",
   "execution_count": null,
   "metadata": {},
   "outputs": [],
   "source": []
  },
  {
   "cell_type": "markdown",
   "metadata": {},
   "source": [
    "### Part 10"
   ]
  },
  {
   "cell_type": "markdown",
   "metadata": {},
   "source": [
    "Let's find the line with equation \n",
    "\n",
    "\\begin{equation*}\n",
    "\\text{total bases}  = m \\times \\text{hits} + b \n",
    "\\end{equation*}\n",
    "\n",
    "that best fits the data. One way to do this:\n",
    "\n",
    "1. Make a row vector of the hit values called `hits`.\n",
    "\n",
    "2. Make a column vector of the total bases values called `tb`.\n",
    "\n",
    "3. Make a matrix \n",
    "\n",
    "    ```\n",
    "    A = np.vstack([hits, np.ones(len(hits))).T\n",
    "    ```\n",
    "\n",
    "    where `hits` is a row vector of the hit values.\n",
    "\n",
    "4. Solve the system $A\\mathbf{x} = $ `tb`, where $\\mathbf{x} = [m,b]^T$. This is an overdetermined system and has no solution but Python will compute the least-squares solution for you with the method `np.linalg.lstsq`. Use this method to find the coefficients of the line (that is, $m$ and $b$).\n",
    "\n",
    "5. Plot this line in blue on top of your previous plot. Use the `np.linspace` method to generate the x-axis values."
   ]
  },
  {
   "cell_type": "code",
   "execution_count": null,
   "metadata": {
    "scrolled": true
   },
   "outputs": [],
   "source": []
  },
  {
   "cell_type": "markdown",
   "metadata": {},
   "source": [
    "### Part 11"
   ]
  },
  {
   "cell_type": "markdown",
   "metadata": {},
   "source": [
    "Write the ERA for each pitcher and OBP for each position player back to the Excel workbook, in a new sheet called Output. You should use two different for loops to write the information back to the Excel file."
   ]
  },
  {
   "cell_type": "code",
   "execution_count": null,
   "metadata": {},
   "outputs": [],
   "source": []
  },
  {
   "cell_type": "markdown",
   "metadata": {},
   "source": [
    "---"
   ]
  },
  {
   "cell_type": "markdown",
   "metadata": {},
   "source": [
    "## When you're finished"
   ]
  },
  {
   "cell_type": "markdown",
   "metadata": {},
   "source": [
    "- Make sure your notebook runs from top to bottom with no errors. One way to accomplish this is to click on __Kernel &#8594; Restart & Run All__. This will restart Python, and run your notebook from top to bottom."
   ]
  },
  {
   "cell_type": "markdown",
   "metadata": {},
   "source": [
    "- __Please acknowledge any collaborators below:__"
   ]
  },
  {
   "cell_type": "markdown",
   "metadata": {},
   "source": [
    "<span style=\"color:red\"><strong>LIST YOUR COLLABORATORS IN THIS CELL. DOUBLE-CLICK TO EDIT.</strong></span>"
   ]
  },
  {
   "cell_type": "markdown",
   "metadata": {},
   "source": [
    "- When you're ready, submit this notebook using the SM286D Submission Form linked on the [class website](https://www.usna.edu/users/math/uhan/sm286d/)."
   ]
  },
  {
   "cell_type": "markdown",
   "metadata": {},
   "source": [
    "---"
   ]
  },
  {
   "cell_type": "markdown",
   "metadata": {},
   "source": [
    "## Grading"
   ]
  },
  {
   "cell_type": "markdown",
   "metadata": {},
   "source": [
    "Your work will be graded as follows (55 total points): \n",
    "\n",
    "- Part 1: correctly clean data in Excel workbook and load pitcher data into `pitcher_data` dictionary (2 points)\n",
    "- Part 2: use a `for` loop and `.items()` (2 points) to add ERA data to pitcher_data (2 points)\n",
    "- Part 3: use a `for` loop and `.items()` (2 points) to print one correctly formatted string for each pitcher (2 points)\n",
    "- Part 4: correctly load player data into `player_data` dictionary (3 points)\n",
    "- Part 5: use a `for` loop and `.items()` (2 points) to compute TB and print one correctly formatted string for each player (2 points)\n",
    "- Part 6: use a `for` loop and `.items()` (2 points) to compute SLG and print one correctly formatted string for each player (2 points)\n",
    "- Part 7: use a `for` loop and `.items()` (2 points) to compute OBP and print one correctly formatted string for each player (2 points)\n",
    "- Part 8: find max SLG and min ERA correctly (4 points) and print the formatted text to the screen (2 points)\n",
    "- Part 9: correct plot (2 points) with appropriate labels (2 points) and title (1 point)\n",
    "- Part 10: correct computation of the coefficients of the line of best fit (2 points), correct use of `np.linspace` method (1 point), correct plot of line of best fit in blue (2 points)\n",
    "- Part 11: correct values for pitcher names (2 points), correct values for ERAs (2 points), correct values for player names (2 points), correct values for OBPs (2 points), values in the correct places in Excel workbook (2 points)\n",
    "- All Parts: helpful in-line comments (4 points)"
   ]
  }
 ],
 "metadata": {
  "kernelspec": {
   "display_name": "Python 3",
   "language": "python",
   "name": "python3"
  },
  "language_info": {
   "codemirror_mode": {
    "name": "ipython",
    "version": 3
   },
   "file_extension": ".py",
   "mimetype": "text/x-python",
   "name": "python",
   "nbconvert_exporter": "python",
   "pygments_lexer": "ipython3",
   "version": "3.7.6"
  }
 },
 "nbformat": 4,
 "nbformat_minor": 2
}
